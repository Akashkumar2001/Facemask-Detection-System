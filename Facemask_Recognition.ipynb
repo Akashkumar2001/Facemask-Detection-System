{
 "cells": [
  {
   "cell_type": "code",
   "execution_count": 1,
   "id": "61e7843f",
   "metadata": {},
   "outputs": [],
   "source": [
    "import numpy as np\n",
    "import pandas as pd\n",
    "%matplotlib inline\n",
    "import matplotlib as mpl\n",
    "import matplotlib.pyplot as plt \n",
    "import tensorflow as tf\n",
    "from tensorflow import keras"
   ]
  },
  {
   "cell_type": "markdown",
   "id": "40175f63",
   "metadata": {},
   "source": [
    "## Create test, train, and validation directory variables"
   ]
  },
  {
   "cell_type": "code",
   "execution_count": 2,
   "id": "0f62ef85",
   "metadata": {},
   "outputs": [],
   "source": [
    "train_dir=r'C:\\Users\\akash\\Desktop\\course\\Deep Learning\\Final_Assignment_Face Mask Dataset\\Train'\n",
    "validation_dir=r'C:\\Users\\akash\\Desktop\\course\\Deep Learning\\Final_Assignment_Face Mask Dataset\\Validation'\n",
    "test_dir=r'C:\\Users\\akash\\Desktop\\course\\Deep Learning\\Final_Assignment_Face Mask Dataset\\Test'"
   ]
  },
  {
   "cell_type": "markdown",
   "id": "f9e7aaf8",
   "metadata": {},
   "source": [
    "## Create train and validation data generator with target size (128,128)"
   ]
  },
  {
   "cell_type": "code",
   "execution_count": 3,
   "id": "f15430c4",
   "metadata": {},
   "outputs": [],
   "source": [
    "from tensorflow.keras.preprocessing.image import ImageDataGenerator\n",
    "train_datagen=ImageDataGenerator(rescale=1./255,\n",
    "                                rotation_range=40, # it will rotate the image randomly through any angle between -40 to 40 degrees.\n",
    "                                width_shift_range=0.2, # it will shift the image by any percent, from 0 to 20% randomly.\n",
    "                                height_shift_range=0.2,  # All these are done to avoid overfitting.\n",
    "                                shear_range=0.2,\n",
    "                                zoom_range=0.2,\n",
    "                                horizontal_flip=True)\n",
    "\n",
    "test_datagen=ImageDataGenerator(rescale=1./255)"
   ]
  },
  {
   "cell_type": "code",
   "execution_count": 4,
   "id": "e518e557",
   "metadata": {},
   "outputs": [
    {
     "name": "stdout",
     "output_type": "stream",
     "text": [
      "Found 10000 images belonging to 2 classes.\n",
      "Found 10000 images belonging to 2 classes.\n"
     ]
    }
   ],
   "source": [
    "train_generator = train_datagen.flow_from_directory(\n",
    "    train_dir,\n",
    "    target_size=(128,128),\n",
    "    batch_size=20,\n",
    "    class_mode='binary'\n",
    ")\n",
    "\n",
    "validation_generator = train_datagen.flow_from_directory(\n",
    "    train_dir,\n",
    "    target_size=(128,128),\n",
    "    batch_size=20,\n",
    "    class_mode='binary'\n",
    ")"
   ]
  },
  {
   "cell_type": "markdown",
   "id": "f3b3fbf3",
   "metadata": {},
   "source": [
    "## Train a CNN model"
   ]
  },
  {
   "cell_type": "code",
   "execution_count": 8,
   "id": "bb8dfc5b",
   "metadata": {},
   "outputs": [],
   "source": [
    "from tensorflow.keras import layers\n",
    "from tensorflow.keras import models"
   ]
  },
  {
   "cell_type": "code",
   "execution_count": 9,
   "id": "d3808fb4",
   "metadata": {},
   "outputs": [],
   "source": [
    "model=models.Sequential()\n",
    "\n",
    "model.add(layers.Conv2D(32,(3,3),activation=\"relu\",input_shape=(128,128,3)))\n",
    "model.add(layers.MaxPooling2D((2,2)))\n",
    "\n",
    "model.add(layers.Conv2D(64,(3,3),activation=\"relu\"))\n",
    "model.add(layers.MaxPooling2D((2,2)))\n",
    "\n",
    "model.add(layers.Conv2D(128,(3,3),activation=\"relu\"))\n",
    "model.add(layers.MaxPooling2D((2,2)))\n",
    "\n",
    "model.add(layers.Conv2D(128,(3,3),activation=\"relu\"))\n",
    "model.add(layers.MaxPooling2D((2,2)))\n",
    "\n",
    "model.add(layers.Flatten())\n",
    "model.add(layers.Dense(512,activation=\"relu\"))\n",
    "model.add(layers.Dense(1,activation=\"sigmoid\"))"
   ]
  },
  {
   "cell_type": "code",
   "execution_count": 10,
   "id": "b79833bc",
   "metadata": {},
   "outputs": [
    {
     "name": "stdout",
     "output_type": "stream",
     "text": [
      "Model: \"sequential_1\"\n",
      "_________________________________________________________________\n",
      "Layer (type)                 Output Shape              Param #   \n",
      "=================================================================\n",
      "conv2d_4 (Conv2D)            (None, 126, 126, 32)      896       \n",
      "_________________________________________________________________\n",
      "max_pooling2d_4 (MaxPooling2 (None, 63, 63, 32)        0         \n",
      "_________________________________________________________________\n",
      "conv2d_5 (Conv2D)            (None, 61, 61, 64)        18496     \n",
      "_________________________________________________________________\n",
      "max_pooling2d_5 (MaxPooling2 (None, 30, 30, 64)        0         \n",
      "_________________________________________________________________\n",
      "conv2d_6 (Conv2D)            (None, 28, 28, 128)       73856     \n",
      "_________________________________________________________________\n",
      "max_pooling2d_6 (MaxPooling2 (None, 14, 14, 128)       0         \n",
      "_________________________________________________________________\n",
      "conv2d_7 (Conv2D)            (None, 12, 12, 128)       147584    \n",
      "_________________________________________________________________\n",
      "max_pooling2d_7 (MaxPooling2 (None, 6, 6, 128)         0         \n",
      "_________________________________________________________________\n",
      "flatten_1 (Flatten)          (None, 4608)              0         \n",
      "_________________________________________________________________\n",
      "dense_2 (Dense)              (None, 512)               2359808   \n",
      "_________________________________________________________________\n",
      "dense_3 (Dense)              (None, 1)                 513       \n",
      "=================================================================\n",
      "Total params: 2,601,153\n",
      "Trainable params: 2,601,153\n",
      "Non-trainable params: 0\n",
      "_________________________________________________________________\n"
     ]
    }
   ],
   "source": [
    "model.summary()"
   ]
  },
  {
   "cell_type": "code",
   "execution_count": 11,
   "id": "a6846802",
   "metadata": {},
   "outputs": [],
   "source": [
    "from tensorflow.keras import optimizers\n",
    "\n",
    "model.compile(loss=\"binary_crossentropy\",\n",
    "             optimizer=optimizers.RMSprop(lr=1e-4),\n",
    "             metrics=['acc'])"
   ]
  },
  {
   "cell_type": "code",
   "execution_count": 12,
   "id": "f6c66e44",
   "metadata": {},
   "outputs": [
    {
     "name": "stdout",
     "output_type": "stream",
     "text": [
      "WARNING:tensorflow:From <ipython-input-12-0c1c7b6716ba>:1: Model.fit_generator (from tensorflow.python.keras.engine.training) is deprecated and will be removed in a future version.\n",
      "Instructions for updating:\n",
      "Please use Model.fit, which supports generators.\n",
      "Epoch 1/20\n",
      "100/100 [==============================] - 44s 438ms/step - loss: 0.4029 - acc: 0.8135 - val_loss: 0.2684 - val_acc: 0.9050\n",
      "Epoch 2/20\n",
      "100/100 [==============================] - 45s 449ms/step - loss: 0.2762 - acc: 0.8855 - val_loss: 0.2401 - val_acc: 0.9090\n",
      "Epoch 3/20\n",
      "100/100 [==============================] - 48s 480ms/step - loss: 0.2421 - acc: 0.8995 - val_loss: 0.2192 - val_acc: 0.9080\n",
      "Epoch 4/20\n",
      "100/100 [==============================] - 48s 482ms/step - loss: 0.2217 - acc: 0.9135 - val_loss: 0.1831 - val_acc: 0.9250\n",
      "Epoch 5/20\n",
      "100/100 [==============================] - 42s 423ms/step - loss: 0.2100 - acc: 0.9175 - val_loss: 0.1829 - val_acc: 0.9380\n",
      "Epoch 6/20\n",
      "100/100 [==============================] - 41s 407ms/step - loss: 0.1955 - acc: 0.9325 - val_loss: 0.1728 - val_acc: 0.9370\n",
      "Epoch 7/20\n",
      "100/100 [==============================] - 42s 415ms/step - loss: 0.1938 - acc: 0.9310 - val_loss: 0.1569 - val_acc: 0.9390\n",
      "Epoch 8/20\n",
      "100/100 [==============================] - 41s 412ms/step - loss: 0.1715 - acc: 0.9335 - val_loss: 0.1667 - val_acc: 0.9380\n",
      "Epoch 9/20\n",
      "100/100 [==============================] - 42s 417ms/step - loss: 0.1744 - acc: 0.9350 - val_loss: 0.1763 - val_acc: 0.9350\n",
      "Epoch 10/20\n",
      "100/100 [==============================] - 41s 412ms/step - loss: 0.1807 - acc: 0.9265 - val_loss: 0.1720 - val_acc: 0.9440\n",
      "Epoch 11/20\n",
      "100/100 [==============================] - 793s 8s/step - loss: 0.1806 - acc: 0.9315 - val_loss: 0.1684 - val_acc: 0.9360\n",
      "Epoch 12/20\n",
      "100/100 [==============================] - 42s 417ms/step - loss: 0.1790 - acc: 0.9350 - val_loss: 0.2694 - val_acc: 0.8880\n",
      "Epoch 13/20\n",
      "100/100 [==============================] - 40s 402ms/step - loss: 0.1924 - acc: 0.9255 - val_loss: 0.1635 - val_acc: 0.9290\n",
      "Epoch 14/20\n",
      "100/100 [==============================] - 40s 403ms/step - loss: 0.1533 - acc: 0.9455 - val_loss: 0.1536 - val_acc: 0.9490\n",
      "Epoch 15/20\n",
      "100/100 [==============================] - 40s 402ms/step - loss: 0.1631 - acc: 0.9370 - val_loss: 0.2152 - val_acc: 0.9200\n",
      "Epoch 16/20\n",
      "100/100 [==============================] - 40s 405ms/step - loss: 0.1479 - acc: 0.9505 - val_loss: 0.1352 - val_acc: 0.9460\n",
      "Epoch 17/20\n",
      "100/100 [==============================] - 40s 404ms/step - loss: 0.1538 - acc: 0.9430 - val_loss: 0.1438 - val_acc: 0.9430\n",
      "Epoch 18/20\n",
      "100/100 [==============================] - 44s 443ms/step - loss: 0.1301 - acc: 0.9540 - val_loss: 0.1415 - val_acc: 0.9540\n",
      "Epoch 19/20\n",
      "100/100 [==============================] - 810s 8s/step - loss: 0.1483 - acc: 0.9485 - val_loss: 0.1382 - val_acc: 0.9570\n",
      "Epoch 20/20\n",
      "100/100 [==============================] - 44s 440ms/step - loss: 0.1492 - acc: 0.9500 - val_loss: 0.1424 - val_acc: 0.9420\n"
     ]
    }
   ],
   "source": [
    "history=model.fit_generator(train_generator,\n",
    "                            steps_per_epoch=100,\n",
    "                            epochs=20,\n",
    "                            validation_data=validation_generator,\n",
    "                            validation_steps=50)"
   ]
  },
  {
   "cell_type": "code",
   "execution_count": 13,
   "id": "1327cddf",
   "metadata": {},
   "outputs": [],
   "source": [
    "model.save(\"facemask_augmentation.h5\")"
   ]
  },
  {
   "cell_type": "code",
   "execution_count": 14,
   "id": "c24e1f70",
   "metadata": {},
   "outputs": [
    {
     "data": {
      "image/png": "[encoded data removed]",
      "text/plain": [
       "<Figure size 576x360 with 1 Axes>"
      ]
     },
     "metadata": {
      "needs_background": "light"
     },
     "output_type": "display_data"
    }
   ],
   "source": [
    "pd.DataFrame(history.history).plot(figsize=(8,5))\n",
    "plt.grid(True)\n",
    "plt.gca().set_ylim(0,1)\n",
    "plt.show()"
   ]
  },
  {
   "cell_type": "code",
   "execution_count": 15,
   "id": "03b2a4d5",
   "metadata": {},
   "outputs": [],
   "source": [
    "from tensorflow.keras import backend as k\n",
    "\n",
    "k.clear_session()\n",
    "del model"
   ]
  },
  {
   "cell_type": "markdown",
   "id": "1ff0bdda",
   "metadata": {},
   "source": [
    "## Train a model with VGG19 model"
   ]
  },
  {
   "cell_type": "code",
   "execution_count": 16,
   "id": "1a93168c",
   "metadata": {},
   "outputs": [],
   "source": [
    "train_datagen=ImageDataGenerator(rescale=1./255,\n",
    "                                rotation_range=40, # it will rotate the image randomly through any angle between -40 to 40 degrees.\n",
    "                                width_shift_range=0.2, # it will shift the image by any percent, from 0 to 20% randomly.\n",
    "                                height_shift_range=0.2,  # All these are done to avoid overfitting.\n",
    "                                shear_range=0.2,\n",
    "                                zoom_range=0.2,\n",
    "                                horizontal_flip=True)\n",
    "\n",
    "test_datagen=ImageDataGenerator(rescale=1./255)"
   ]
  },
  {
   "cell_type": "code",
   "execution_count": 17,
   "id": "bc0d4e93",
   "metadata": {},
   "outputs": [
    {
     "name": "stdout",
     "output_type": "stream",
     "text": [
      "Found 10000 images belonging to 2 classes.\n",
      "Found 10000 images belonging to 2 classes.\n"
     ]
    }
   ],
   "source": [
    "train_generator = train_datagen.flow_from_directory(\n",
    "    train_dir,\n",
    "    target_size=(128,128),\n",
    "    batch_size=20,\n",
    "    class_mode='binary'\n",
    ")\n",
    "\n",
    "validation_generator = train_datagen.flow_from_directory(\n",
    "    train_dir,\n",
    "    target_size=(128,128),\n",
    "    batch_size=20,\n",
    "    class_mode='binary'\n",
    ")"
   ]
  },
  {
   "cell_type": "code",
   "execution_count": 18,
   "id": "7beaf69e",
   "metadata": {},
   "outputs": [
    {
     "name": "stdout",
     "output_type": "stream",
     "text": [
      "Downloading data from https://storage.googleapis.com/tensorflow/keras-applications/vgg19/vgg19_weights_tf_dim_ordering_tf_kernels_notop.h5\n",
      "80142336/80134624 [==============================] - 86s 1us/step\n"
     ]
    }
   ],
   "source": [
    "from tensorflow.keras.applications import VGG19\n",
    "\n",
    "conv_base=VGG19(weights=\"imagenet\",\n",
    "                include_top=False,\n",
    "                input_shape=(128,128,3))"
   ]
  },
  {
   "cell_type": "code",
   "execution_count": 19,
   "id": "eb0c6409",
   "metadata": {},
   "outputs": [
    {
     "name": "stdout",
     "output_type": "stream",
     "text": [
      "Model: \"vgg19\"\n",
      "_________________________________________________________________\n",
      "Layer (type)                 Output Shape              Param #   \n",
      "=================================================================\n",
      "input_1 (InputLayer)         [(None, 128, 128, 3)]     0         \n",
      "_________________________________________________________________\n",
      "block1_conv1 (Conv2D)        (None, 128, 128, 64)      1792      \n",
      "_________________________________________________________________\n",
      "block1_conv2 (Conv2D)        (None, 128, 128, 64)      36928     \n",
      "_________________________________________________________________\n",
      "block1_pool (MaxPooling2D)   (None, 64, 64, 64)        0         \n",
      "_________________________________________________________________\n",
      "block2_conv1 (Conv2D)        (None, 64, 64, 128)       73856     \n",
      "_________________________________________________________________\n",
      "block2_conv2 (Conv2D)        (None, 64, 64, 128)       147584    \n",
      "_________________________________________________________________\n",
      "block2_pool (MaxPooling2D)   (None, 32, 32, 128)       0         \n",
      "_________________________________________________________________\n",
      "block3_conv1 (Conv2D)        (None, 32, 32, 256)       295168    \n",
      "_________________________________________________________________\n",
      "block3_conv2 (Conv2D)        (None, 32, 32, 256)       590080    \n",
      "_________________________________________________________________\n",
      "block3_conv3 (Conv2D)        (None, 32, 32, 256)       590080    \n",
      "_________________________________________________________________\n",
      "block3_conv4 (Conv2D)        (None, 32, 32, 256)       590080    \n",
      "_________________________________________________________________\n",
      "block3_pool (MaxPooling2D)   (None, 16, 16, 256)       0         \n",
      "_________________________________________________________________\n",
      "block4_conv1 (Conv2D)        (None, 16, 16, 512)       1180160   \n",
      "_________________________________________________________________\n",
      "block4_conv2 (Conv2D)        (None, 16, 16, 512)       2359808   \n",
      "_________________________________________________________________\n",
      "block4_conv3 (Conv2D)        (None, 16, 16, 512)       2359808   \n",
      "_________________________________________________________________\n",
      "block4_conv4 (Conv2D)        (None, 16, 16, 512)       2359808   \n",
      "_________________________________________________________________\n",
      "block4_pool (MaxPooling2D)   (None, 8, 8, 512)         0         \n",
      "_________________________________________________________________\n",
      "block5_conv1 (Conv2D)        (None, 8, 8, 512)         2359808   \n",
      "_________________________________________________________________\n",
      "block5_conv2 (Conv2D)        (None, 8, 8, 512)         2359808   \n",
      "_________________________________________________________________\n",
      "block5_conv3 (Conv2D)        (None, 8, 8, 512)         2359808   \n",
      "_________________________________________________________________\n",
      "block5_conv4 (Conv2D)        (None, 8, 8, 512)         2359808   \n",
      "_________________________________________________________________\n",
      "block5_pool (MaxPooling2D)   (None, 4, 4, 512)         0         \n",
      "=================================================================\n",
      "Total params: 20,024,384\n",
      "Trainable params: 20,024,384\n",
      "Non-trainable params: 0\n",
      "_________________________________________________________________\n"
     ]
    }
   ],
   "source": [
    "conv_base.summary()"
   ]
  },
  {
   "cell_type": "code",
   "execution_count": 20,
   "id": "3b630776",
   "metadata": {},
   "outputs": [],
   "source": [
    "from tensorflow.keras import models,layers\n",
    "\n",
    "model=models.Sequential()\n",
    "model.add(conv_base)\n",
    "model.add(layers.Flatten())\n",
    "model.add(layers.Dense(256,activation=\"relu\"))\n",
    "model.add(layers.Dense(1,activation=\"sigmoid\"))"
   ]
  },
  {
   "cell_type": "code",
   "execution_count": 21,
   "id": "5fbe50b7",
   "metadata": {},
   "outputs": [
    {
     "name": "stdout",
     "output_type": "stream",
     "text": [
      "Model: \"sequential\"\n",
      "_________________________________________________________________\n",
      "Layer (type)                 Output Shape              Param #   \n",
      "=================================================================\n",
      "vgg19 (Functional)           (None, 4, 4, 512)         20024384  \n",
      "_________________________________________________________________\n",
      "flatten (Flatten)            (None, 8192)              0         \n",
      "_________________________________________________________________\n",
      "dense (Dense)                (None, 256)               2097408   \n",
      "_________________________________________________________________\n",
      "dense_1 (Dense)              (None, 1)                 257       \n",
      "=================================================================\n",
      "Total params: 22,122,049\n",
      "Trainable params: 22,122,049\n",
      "Non-trainable params: 0\n",
      "_________________________________________________________________\n"
     ]
    }
   ],
   "source": [
    "model.summary()"
   ]
  },
  {
   "cell_type": "code",
   "execution_count": 22,
   "id": "61d5d210",
   "metadata": {},
   "outputs": [],
   "source": [
    "conv_base.trainable=False"
   ]
  },
  {
   "cell_type": "code",
   "execution_count": 23,
   "id": "dbf9010c",
   "metadata": {},
   "outputs": [],
   "source": [
    "from tensorflow.keras import optimizers\n",
    "\n",
    "model.compile(loss=\"binary_crossentropy\",\n",
    "             optimizer=optimizers.RMSprop(lr=2e-5),\n",
    "             metrics=[\"acc\"])"
   ]
  },
  {
   "cell_type": "markdown",
   "id": "15191f00",
   "metadata": {},
   "source": [
    "## Use callbacks to save your model at every step"
   ]
  },
  {
   "cell_type": "code",
   "execution_count": 24,
   "id": "99a7b784",
   "metadata": {},
   "outputs": [],
   "source": [
    "checkpoint_cb=keras.callbacks.ModelCheckpoint(\"Facemask_Project_Model-{epoch:02d}.h5\")"
   ]
  },
  {
   "cell_type": "code",
   "execution_count": 25,
   "id": "cdc63897",
   "metadata": {},
   "outputs": [
    {
     "name": "stdout",
     "output_type": "stream",
     "text": [
      "Epoch 1/7\n",
      "100/100 [==============================] - 229s 2s/step - loss: 0.4591 - acc: 0.8170 - val_loss: 0.3171 - val_acc: 0.9130\n",
      "Epoch 2/7\n",
      "100/100 [==============================] - 166s 2s/step - loss: 0.2618 - acc: 0.9230 - val_loss: 0.2197 - val_acc: 0.9310\n",
      "Epoch 3/7\n",
      "100/100 [==============================] - 172s 2s/step - loss: 0.1975 - acc: 0.9425 - val_loss: 0.1873 - val_acc: 0.9380\n",
      "Epoch 4/7\n",
      "100/100 [==============================] - 172s 2s/step - loss: 0.1906 - acc: 0.9315 - val_loss: 0.1631 - val_acc: 0.9450\n",
      "Epoch 5/7\n",
      "100/100 [==============================] - 177s 2s/step - loss: 0.1498 - acc: 0.9510 - val_loss: 0.1490 - val_acc: 0.9530\n",
      "Epoch 6/7\n",
      "100/100 [==============================] - 176s 2s/step - loss: 0.1567 - acc: 0.9440 - val_loss: 0.1444 - val_acc: 0.9490\n",
      "Epoch 7/7\n",
      "100/100 [==============================] - 175s 2s/step - loss: 0.1565 - acc: 0.9385 - val_loss: 0.1299 - val_acc: 0.9580\n"
     ]
    }
   ],
   "source": [
    "history=model.fit(train_generator,\n",
    "                steps_per_epoch=100,\n",
    "                epochs=7,\n",
    "                validation_data=validation_generator,\n",
    "                validation_steps=50,\n",
    "                callbacks=[checkpoint_cb])"
   ]
  },
  {
   "cell_type": "code",
   "execution_count": 26,
   "id": "554efda5",
   "metadata": {},
   "outputs": [
    {
     "data": {
      "image/png": "[encoded data removed]",
      "text/plain": [
       "<Figure size 576x360 with 1 Axes>"
      ]
     },
     "metadata": {
      "needs_background": "light"
     },
     "output_type": "display_data"
    }
   ],
   "source": [
    "pd.DataFrame(history.history).plot(figsize=(8,5))\n",
    "plt.grid(True)\n",
    "plt.gca().set_ylim(0,1)\n",
    "plt.show()"
   ]
  },
  {
   "cell_type": "code",
   "execution_count": 27,
   "id": "05f2c60d",
   "metadata": {},
   "outputs": [
    {
     "name": "stdout",
     "output_type": "stream",
     "text": [
      "Found 992 images belonging to 2 classes.\n"
     ]
    }
   ],
   "source": [
    "test_generator = test_datagen.flow_from_directory(\n",
    "    test_dir,\n",
    "    target_size=(128,128),\n",
    "    batch_size=20,\n",
    "    class_mode='binary')"
   ]
  },
  {
   "cell_type": "code",
   "execution_count": 28,
   "id": "a751eba2",
   "metadata": {},
   "outputs": [
    {
     "name": "stdout",
     "output_type": "stream",
     "text": [
      "50/50 [==============================] - 46s 927ms/step - loss: 0.0657 - acc: 0.9778\n"
     ]
    },
    {
     "data": {
      "text/plain": [
       "[0.06567699462175369, 0.9778226017951965]"
      ]
     },
     "execution_count": 28,
     "metadata": {},
     "output_type": "execute_result"
    }
   ],
   "source": [
    "model.evaluate(test_generator, steps=50)"
   ]
  },
  {
   "cell_type": "code",
   "execution_count": null,
   "id": "43e784a1",
   "metadata": {},
   "outputs": [],
   "source": []
  }
 ],
 "metadata": {
  "kernelspec": {
   "display_name": "Python 3",
   "language": "python",
   "name": "python3"
  },
  "language_info": {
   "codemirror_mode": {
    "name": "ipython",
    "version": 3
   },
   "file_extension": ".py",
   "mimetype": "text/x-python",
   "name": "python",
   "nbconvert_exporter": "python",
   "pygments_lexer": "ipython3",
   "version": "3.8.10"
  }
 },
 "nbformat": 4,
 "nbformat_minor": 5
}
